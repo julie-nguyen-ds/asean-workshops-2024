{
 "cells": [
  {
   "cell_type": "markdown",
   "metadata": {
    "application/vnd.databricks.v1+cell": {
     "cellMetadata": {
      "byteLimit": 2048000,
      "rowLimit": 10000
     },
     "inputWidgets": {},
     "nuid": "910612cd-d6a1-4dcc-8315-320faadfdffb",
     "showTitle": false,
     "tableResultSettingsMap": {},
     "title": ""
    }
   },
   "source": [
    "# Databricks AutoML Lab\n",
    "\n",
    "## Getting Started\n",
    "\n",
    "### By the end of this lab you will have learned:\n",
    "\n",
    "1. How to upload data to a Unity Catalog Volume\n",
    "\n",
    "2. How to use the Databricks AutoML to help you quickly generate baseline models and notebooks. \n",
    "\n",
    "3. Assess which models are the best performing ones in the UI \n",
    "\n",
    "4. Customize the generated model for better performance\n",
    "\n",
    "\n"
   ]
  },
  {
   "cell_type": "markdown",
   "metadata": {
    "application/vnd.databricks.v1+cell": {
     "cellMetadata": {
      "byteLimit": 2048000,
      "rowLimit": 10000
     },
     "inputWidgets": {},
     "nuid": "8b5e9215-9006-43d8-a08f-de425fa846d3",
     "showTitle": false,
     "tableResultSettingsMap": {},
     "title": ""
    }
   },
   "source": [
    "## 0. Lab Setup\n",
    "1. Start your ML Cluster before adding data. You can find clusters in the `Compute` Tab on the left."
   ]
  },
  {
   "cell_type": "markdown",
   "metadata": {
    "application/vnd.databricks.v1+cell": {
     "cellMetadata": {},
     "inputWidgets": {},
     "nuid": "d39777f0-95a0-4639-9b87-6d1cc9d58c77",
     "showTitle": false,
     "tableResultSettingsMap": {},
     "title": ""
    }
   },
   "source": [
    "## 1. Upload a .csv File to create a new table - Daily Sales Data\n",
    "\n",
    "1. Download the [Daily Sales Data](https://github.com/julie-nguyen-ds/asean-workshops-2024/blob/main/Datasets/DI%20Platform%20Lab/product_description.tsv) file to your local computer <br />\n",
    "2. Navigate to the `Catalog Explorer` and create a `schema` in the catalog using your name or any username you like.\n",
    "<br /><img style=\"float:right\" src=\"https://github.com/julie-nguyen-ds/asean-workshops-2024/blob/main/Resources/Screenshots/3.0.png?raw=true\"/><br />\n",
    "3. Click on the `Create` blue button (top right) and select `create table`\n",
    "4. Select the file you've downloaded. After the upload completes, you can examine the available data and make sure the formats are correct.\n",
    "5. Wait for the data to load. When it's done, you can click on the `Sample Data` tab in the `Catalog Explorer` to see if the data was loaded correctly and is displayed as expected. <br />\n",
    "\n",
    "\n",
    "\n"
   ]
  },
  {
   "cell_type": "markdown",
   "metadata": {
    "application/vnd.databricks.v1+cell": {
     "cellMetadata": {},
     "inputWidgets": {},
     "nuid": "468bc5d2-e739-4068-97da-6b6f287d7a39",
     "showTitle": false,
     "tableResultSettingsMap": {},
     "title": ""
    }
   },
   "source": [
    "## 2. Create your AutoML Experiment - Daily Sales Data\n",
    "\n",
    "1. Go to the Experiment tab on the left, in the Machine Learning category. \n",
    "2. Click on the `Start Training` button in the Forecasting section. \n",
    "<br /><img style=\"float:right\" src=\"https://github.com/julie-nguyen-ds/asean-workshops-2024/blob/main/Resources/Screenshots/3.1.png?raw=true\"/><br />\n",
    "3. Switch the UI to get the notebook generation AutoML by clicking the link in the information text.\n",
    "<br /><img style=\"float:right\" src=\"https://github.com/julie-nguyen-ds/asean-workshops-2024/blob/main/Resources/Screenshots/3.2.png?raw=true\"/><br />\n",
    "4. Select your Cluster and input the data you want to use for forecasting.\n",
    "<br /><img style=\"float:right\" src=\"https://github.com/julie-nguyen-ds/asean-workshops-2024/blob/main/Resources/Screenshots/3.3.png?raw=true\"/><br />\n",
    "5. Configure the rest of the parameters for AutoML. We recommend setting the forecast time to 15 minutes in the `Advanced` section, so that you can see the results quickly.\n",
    "<br /><img style=\"float:right\" src=\"https://github.com/julie-nguyen-ds/asean-workshops-2024/blob/main/Resources/Screenshots/3.4.png?raw=true\"/><br />\n",
    "6. Finally you can launch the AutoML run and wait to see the results.\n"
   ]
  }
 ],
 "metadata": {
  "application/vnd.databricks.v1+notebook": {
   "computePreferences": null,
   "dashboards": [],
   "environmentMetadata": {
    "base_environment": "",
    "environment_version": "2"
   },
   "language": "python",
   "notebookMetadata": {
    "pythonIndentUnit": 2
   },
   "notebookName": "AutoML Lab",
   "widgets": {}
  },
  "language_info": {
   "name": "python"
  }
 },
 "nbformat": 4,
 "nbformat_minor": 0
}
